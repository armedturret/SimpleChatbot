{
 "metadata": {
  "language_info": {
   "codemirror_mode": {
    "name": "ipython",
    "version": 3
   },
   "file_extension": ".py",
   "mimetype": "text/x-python",
   "name": "python",
   "nbconvert_exporter": "python",
   "pygments_lexer": "ipython3",
   "version": "3.7.4-final"
  },
  "orig_nbformat": 2,
  "kernelspec": {
   "name": "python37464bitprogramdatavirtualenve74f98f206a144e9930fc7ad4501d43a",
   "display_name": "Python 3.7.4 64-bit ('ProgramData': virtualenv)",
   "language": "python"
  }
 },
 "nbformat": 4,
 "nbformat_minor": 2,
 "cells": [
  {
   "cell_type": "code",
   "execution_count": 37,
   "metadata": {},
   "outputs": [],
   "source": [
    "#import all the necessary libraries\n",
    "import tensorflow as tf\n",
    "import tensorflow_addons as tfa\n",
    "import numpy as np\n",
    "import ast\n",
    "from tensorflow import keras"
   ]
  },
  {
   "cell_type": "code",
   "execution_count": 77,
   "metadata": {
    "tags": []
   },
   "outputs": [],
   "source": [
    "#uses movie conversations and movie lines to create a (prompts, responses) tuple\n",
    "def create_data():\n",
    "    dialouge = open('./movie_lines.txt').read()\n",
    "    conversations = open('./movie_conversations.txt').read()\n",
    "    dialogue_data = {} #key val map with move linenumas the key and dialouge as the val\n",
    "\n",
    "    prompts, responses = [], []\n",
    "\n",
    "    #process the dialouge first\n",
    "    for l in dialouge.split('\\n'):\n",
    "        line = l.split(' +++$+++ ')\n",
    "        if not len(line) == 5: #skip if too short\n",
    "            continue\n",
    "        dialogue_data[(line[2] + line[0])] = line[4]\n",
    "\n",
    "    #use the conversations file to assemble conversations\n",
    "    for l in conversations.split('\\n'):\n",
    "        line = l.split(' +++$+++ ')\n",
    "\n",
    "        if not len(line) == 4: #skip if too short\n",
    "            continue\n",
    "        #parse the last element as a list\n",
    "        lines = ast.literal_eval(line[3])\n",
    "        for i in range(1, len(lines)):\n",
    "            #assemble the lists\n",
    "            prompts.append(dialogue_data[line[2] + lines[i-1]])\n",
    "            responses.append(dialogue_data[line[2] + lines[i]])\n",
    "\n",
    "    return prompts, responses\n"
   ]
  },
  {
   "cell_type": "code",
   "execution_count": 76,
   "metadata": {},
   "outputs": [],
   "source": [
    "#call the data set creation function\n",
    "data_x, data_y = create_data()"
   ]
  },
  {
   "cell_type": "code",
   "execution_count": null,
   "metadata": {},
   "outputs": [],
   "source": []
  }
 ]
}